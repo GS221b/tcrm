{
 "cells": [
  {
   "cell_type": "markdown",
   "metadata": {},
   "source": [
    "# Landfall rates for simulated tropical cyclones \n",
    "\n",
    "This notebook looks at the rate of landfalling tropical cyclones simulated in the TCHA. \"Landfall\" is a loose definition, where we have set out a series of gates around the coastline, which are set 50 km off the coast, and each gate is 200 km wide. \n",
    "\n",
    "We look at landfall as this is where the impacts of TCs are felt. We will compare to historical rates at a later point. \n",
    "\n",
    "The gates are defined in a vector shapefile as line segments. We'll look at the counts, and the mean intensity at landfall to see how well it corresponds to historical landfall rates and intensity. \n",
    "\n",
    "Note however, we'd expect the historical record to be somewhat different to the mean values determined here. Arguably, the historical record should be (statistically) indistiguishable from the range of scenarios. It should appear to be like any other member of the distribution.\n",
    "\n",
    "The simulations used here are 35-year simulations of TC activity in the Australian region. This corresponds to the length of historical record used as the input record to the TCHA (1981-2016). The TCs are simulated with a 3-hour timestep. "
   ]
  },
  {
   "cell_type": "code",
   "execution_count": null,
   "metadata": {},
   "outputs": [],
   "source": [
    "%matplotlib inline\n",
    "import os\n",
    "from os import walk\n",
    "from os.path import join as pjoin\n",
    "import matplotlib.pyplot as plt\n",
    "import geopandas as gpd\n",
    "from Utilities import track\n",
    "from shapely.geometry import LineString, Point\n",
    "import numpy as np\n",
    "import pandas as pd\n",
    "import seaborn as sns\n",
    "sns.set_style('whitegrid')"
   ]
  },
  {
   "cell_type": "markdown",
   "metadata": {},
   "source": [
    "Start with reading in the gates into a `GeoDataFrame`, and adding some additional attributes. This `GeoDataFrame` will be duplicated for each simulation, then aggregated for the summary statistics."
   ]
  },
  {
   "cell_type": "code",
   "execution_count": null,
   "metadata": {},
   "outputs": [],
   "source": [
    "\n",
    "gates = gpd.read_file(\"C:/WorkSpace/data/tcha/gates.shp\")\n",
    "gates['sim'] = 0\n",
    "gates['count'] = 0\n",
    "gates['meanlfintensity'] = np.nan\n",
    "gates['minlfintensity'] = np.nan\n",
    "gates['cat1'] = 0\n",
    "gates['cat2'] = 0\n",
    "gates['cat3'] = 0\n",
    "gates['cat4'] = 0\n",
    "gates['cat5'] = 0"
   ]
  },
  {
   "cell_type": "markdown",
   "metadata": {},
   "source": [
    "Define a function to read in the track files. The track files are the TCRM format files, which are netCDF files, with a heirarchical structure. The `tracks.ncReadTrackData` function does this, but we still need to convert each track to a `GeoDataFrame` and add a `geometry` attribute that represents the line of each time step in the track history. We also assign a category attribute to each segment, which at this point in time is simply based on categorising the central pressure according to the Bureau of Meteorology's TC intensity scale."
   ]
  },
  {
   "cell_type": "code",
   "execution_count": null,
   "metadata": {},
   "outputs": [],
   "source": [
    "def readTracks(trackFile):\n",
    "    tracks = track.ncReadTrackData(trackFile)\n",
    "    trackgdf = []\n",
    "    for t in tracks:\n",
    "        segments = []\n",
    "        for n in range(len(t.data) - 1):\n",
    "            segment = LineString([[t.Longitude[n], t.Latitude[n]],[t.Longitude[n+1], t.Latitude[n+1]]])\n",
    "            segments.append(segment)\n",
    "        gdf = gpd.GeoDataFrame.from_records(t.data[:-1])\n",
    "        gdf['geometry'] = segments\n",
    "        gdf['category'] = pd.cut(gdf['CentralPressure'], \n",
    "                                bins=[0, 930, 955, 970, 985, 990, 1020], \n",
    "                                labels=[5,4,3,2,1,0])\n",
    "        trackgdf.append(gdf)\n",
    "    trackgdf = pd.concat(trackgdf)\n",
    "    return trackgdf\n",
    "\n",
    "def isLeft(line, point):\n",
    "    \"\"\"\n",
    "    Test whether a point is to the left of a (directed) line segment. \n",
    "    \n",
    "    :param line: :class:`Shapely.geometry.LineString` of the line feature being tested\n",
    "    :param point: :class:`Shapely.geometry.Point` being tested\n",
    "    \"\"\"\n",
    "    start = Point(line.coords[0])\n",
    "    end = Point(line.coords[1])\n",
    "    #print(start.x, start.y)\n",
    "    #print(end.x, end.y)\n",
    "    #print(point.x, point.y)\n",
    "\n",
    "    det = (end.x - start.x) * (point.y - start.y) - (end.y - start.y) * (point.x - start.x)\n",
    "    #print(det)\n",
    "    if det > 0: return True\n",
    "    if det <= 0: return False\n",
    "\n",
    "def isLandfall(gate, tracks):\n",
    "    crossings = tracks.crosses(gate.geometry)\n",
    "    landfall = []\n",
    "    for t in tracks[crossings].itertuples():\n",
    "        if isLeft(gate.geometry, Point(t.geometry.coords[0])):\n",
    "            landfall.append(True)\n",
    "        else:\n",
    "            landfall.append(False)\n",
    "\n",
    "    return tracks[crossings][landfall]"
   ]
  },
  {
   "cell_type": "markdown",
   "metadata": {},
   "source": [
    "This function counts the number of track segments that cross the coastal gates. "
   ]
  },
  {
   "cell_type": "code",
   "execution_count": null,
   "metadata": {},
   "outputs": [],
   "source": [
    "def countCrossings(gates, tracks, sim):\n",
    "    gates['sim'] = sim\n",
    "    for i, gate in enumerate(gates.itertuples(index=False)):\n",
    "        ncrossings = 0\n",
    "        l = isLandfall(gate, tracks)\n",
    "        ncrossings = len(l)\n",
    "        #crossings = tracks.crosses(gate.geometry)\n",
    "        #ncrossings = np.sum(tracks.crosses(gate.geometry))\n",
    "        if ncrossings > 0:\n",
    "            gates['count'].iloc[i] = ncrossings\n",
    "            gates['meanlfintensity'].iloc[i] = l['CentralPressure'].mean()\n",
    "            gates['minlfintensity'].iloc[i] = l['CentralPressure'].min()\n",
    "            cathist, bins = np.histogram(l['category'].values, bins=[0,1,2,3,4,5, 6])\n",
    "            gates['cat1'].iloc[i] = cathist[1]\n",
    "            gates['cat2'].iloc[i] = cathist[2]\n",
    "            gates['cat3'].iloc[i] = cathist[3]\n",
    "            gates['cat4'].iloc[i] = cathist[4]\n",
    "            gates['cat5'].iloc[i] = cathist[5]\n",
    "        else:\n",
    "            gates['meanlfintensity'].iloc[i] = np.nan\n",
    "            gates['minlfintensity'].iloc[i] = np.nan\n",
    "            gates['cat1'].iloc[i] = 0\n",
    "            gates['cat2'].iloc[i] = 0\n",
    "            gates['cat3'].iloc[i] = 0\n",
    "            gates['cat4'].iloc[i] = 0\n",
    "            gates['cat5'].iloc[i] = 0\n",
    "    return gates"
   ]
  },
  {
   "cell_type": "markdown",
   "metadata": {},
   "source": [
    "Get the list of track files from the input data path (this'll become a config option in a scripted version of theis notebook). Just find all files in the directory that end with \"nc\" - assume that you're pointing to a directory that only has track files."
   ]
  },
  {
   "cell_type": "code",
   "execution_count": null,
   "metadata": {},
   "outputs": [],
   "source": [
    "filelist = []\n",
    "datapath = \"C:/WorkSpace/data/tcha/tracks\"\n",
    "for (dirpath, dirnames, filenames) in walk(datapath):\n",
    "    filelist.extend([fn for fn in filenames if fn.endswith('nc')])\n",
    "    break\n",
    "nfiles = len(filelist)\n",
    "print(f\"There are {nfiles} track files\")"
   ]
  },
  {
   "cell_type": "markdown",
   "metadata": {},
   "source": [
    "Now we loop through all the gates and determine the landfall rates for each simulation. "
   ]
  },
  {
   "cell_type": "code",
   "execution_count": null,
   "metadata": {},
   "outputs": [],
   "source": [
    "gatedflist = []\n",
    "for sim, f in enumerate(filelist):\n",
    "    gatedf = gates.copy()\n",
    "    tracks = readTracks(pjoin(datapath,f))\n",
    "    gatedf = countCrossings(gatedf, tracks, sim)\n",
    "    gatedflist.append(gatedf)"
   ]
  },
  {
   "cell_type": "code",
   "execution_count": null,
   "metadata": {},
   "outputs": [],
   "source": [
    "gatesummary = pd.concat(gatedflist)\n",
    "gatesummary.head()"
   ]
  },
  {
   "cell_type": "code",
   "execution_count": null,
   "metadata": {},
   "outputs": [],
   "source": [
    "def q10(x): return x.quantile(0.1)\n",
    "def q90(x): return x.quantile(0.9)\n",
    "gs = gatesummary.groupby('gate').agg({'count':['sum','median','std'],\n",
    "                                     'cat1': ['sum','median','std'],\n",
    "                                     'cat2': ['sum','median','std'],\n",
    "                                     'cat3': ['sum','median','std'],\n",
    "                                     'cat4': ['sum','median','std'],\n",
    "                                     'cat5': ['sum','median','std'],\n",
    "                                     'meanlfintensity':['median', q10, q90],\n",
    "                                     'minlfintensity':['median','min', 'std']}, as_index=False)\n",
    "\n",
    "gs.columns = ['_'.join(col).strip() for col in gs.columns.values]\n",
    "gs.reset_index(col_level=1)\n",
    "gs.columns = gs.columns.get_level_values(0)"
   ]
  },
  {
   "cell_type": "code",
   "execution_count": null,
   "metadata": {},
   "outputs": [],
   "source": [
    "gates = gates.join(gs)"
   ]
  },
  {
   "cell_type": "code",
   "execution_count": null,
   "metadata": {},
   "outputs": [],
   "source": [
    "width=0.4\n",
    "fig, ax = plt.subplots(3,1,figsize=(12,16),sharex=True)\n",
    "cat12 = np.add(gates['cat1_mean'], gates['cat2_mean']).tolist()\n",
    "cat123 = np.add(cat12, gates['cat3_mean']).tolist()\n",
    "cat1234 = np.add(cat123, gates['cat4_mean']).tolist()\n",
    "ax[0].bar(gates['gate'],gates['cat1_mean'], color='b', label=\"Cat 1\")\n",
    "ax[0].bar(gates['gate'], gates['cat2_mean'], bottom=gates['cat1_mean'], color='g', label='Cat 2')\n",
    "ax[0].bar(gates['gate'], gates['cat3_mean'], bottom=cat12, color='y', label='Cat 3')\n",
    "ax[0].bar(gates['gate'], gates['cat4_mean'], bottom=cat123, color='orange', label='Cat 4')\n",
    "ax[0].bar(gates['gate'], gates['cat5_mean'], bottom=cat1234, color='r', label='Cat 5')\n",
    "\n",
    "ax[0].legend()\n",
    "ax[0].set_ylabel(\"Number of TCs\")\n",
    "ax[1].plot(gates['gate'], gates['minlfintensity_min'], label='Minimum landfall intensity')\n",
    "ax[1].plot(gates['gate'], gates['meanlfintensity_mean'], color='r', label='Mean landfall intensity')\n",
    "ax[1].fill_between(gates['gate'], gates['meanlfintensity_q10'],\n",
    "                   gates['meanlfintensity_q90'],color='r', alpha=0.25)\n",
    "\n",
    "ax[1].legend(loc=2)\n",
    "ax[1].set_ylim((850, 1020))\n",
    "ax[1].set_ylabel(\"Pressure (hPa)\")\n",
    "ax[2].bar(gates['gate'], gates['count_mean'])\n",
    "ax[2].set_xlim((0,48))\n",
    "ax[2].set_xticks(np.arange(0,48,2))\n",
    "ax[2].set_yticks(np.arange(0,0.25,.02))\n",
    "ax[2].set_xticklabels(gates['label'][::2], rotation='vertical')\n",
    "ax[2].set_ylabel(\"Mean rate of landfall\")"
   ]
  },
  {
   "cell_type": "code",
   "execution_count": null,
   "metadata": {},
   "outputs": [],
   "source": [
    "width=0.4\n",
    "fig, ax = plt.subplots(1,1,figsize=(12,6),sharex=True)\n",
    "cat12 = np.add(gates['cat1_mean'], gates['cat2_mean']).tolist()\n",
    "cat123 = np.add(cat12, gates['cat3_mean']).tolist()\n",
    "cat1234 = np.add(cat123, gates['cat4_mean']).tolist()\n",
    "ax.bar(gates['gate'],gates['cat1_mean'], color='b', label=\"Cat 1\")\n",
    "ax.bar(gates['gate'], gates['cat2_mean'], bottom=gates['cat1_mean'], color='g', label='Cat 2')\n",
    "ax.bar(gates['gate'], gates['cat3_mean'], bottom=cat12, color='y', label='Cat 3')\n",
    "ax.bar(gates['gate'], gates['cat4_mean'], bottom=cat123, color='orange', label='Cat 4')\n",
    "ax.bar(gates['gate'], gates['cat5_mean'], bottom=cat1234, color='r', label='Cat 5')\n",
    "\n",
    "ax.legend()\n",
    "ax.set_ylabel(\"Number of TCs\")\n",
    "ax.set_xlim((0,48))\n",
    "ax.set_xticks(np.arange(0,48,2))\n",
    "ax.set_yticks(np.arange(0,0.11,.02))\n",
    "ax.set_xticklabels(gates['label'][::2], rotation='vertical')\n",
    "ax.set_ylabel(\"Mean rate of landfall\")\n",
    "plt.savefig(\"mean_landfall_rate_intensity.png\", bbox_inches='tight')"
   ]
  },
  {
   "cell_type": "code",
   "execution_count": null,
   "metadata": {},
   "outputs": [],
   "source": []
  },
  {
   "cell_type": "code",
   "execution_count": null,
   "metadata": {},
   "outputs": [],
   "source": []
  }
 ],
 "metadata": {
  "kernelspec": {
   "display_name": "Python 3",
   "language": "python",
   "name": "python3"
  },
  "language_info": {
   "codemirror_mode": {
    "name": "ipython",
    "version": 3
   },
   "file_extension": ".py",
   "mimetype": "text/x-python",
   "name": "python",
   "nbconvert_exporter": "python",
   "pygments_lexer": "ipython3",
   "version": "3.7.4"
  },
  "notify_time": "30"
 },
 "nbformat": 4,
 "nbformat_minor": 2
}
