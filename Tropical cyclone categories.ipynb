{
 "cells": [
  {
   "cell_type": "markdown",
   "metadata": {},
   "source": [
    "# Tropical cyclone categories\n",
    "\n",
    "This notebook provides a look-up table of the wind speed thresholds for different tropical cyclone categories. Given the different wind speed averaging periods, wind speed units and TC classification schemes, it can be confusing as to what the thresholds are for a category 2 cyclone in the SW Pacific compared to a tropical storm in the Atlantic, or a typhoon in the NW Pacific. \n",
    "\n",
    "Here, users can select the classification scheme (BoM, Saffir-Simpson, Typhoons), the input units (km/h, knots, m/s, miles/hr) and the wind speed averaging period (10-minute mean, 1-minute sustained, 3-second, 0.2 second gust) and have the categories plotted up.\n",
    "\n",
    "The base classification uses a reference time corresponding to a 10-minute mean wind speed. We then use the World Meteorological Organisation's *Guidelines for Converting Between Various Wind Averaging Periods in Tropical Cyclone Conditions* ([WMO TD1555, 2010](http://www.wmo.int/pages/prog/www/tcp/documents/WMO_TD_1555_en.pdf)) to convert between different wind averaging periods. \n"
   ]
  },
  {
   "cell_type": "code",
   "execution_count": 1,
   "metadata": {},
   "outputs": [],
   "source": [
    "from __future__ import division\n",
    "%matplotlib inline\n",
    "\n",
    "import numpy as np\n",
    "import matplotlib.pyplot as plt\n",
    "import seaborn as sns\n",
    "from ipywidgets import interact, interactive, Dropdown\n",
    "import ipywidgets as widgets\n",
    "from collections import OrderedDict"
   ]
  },
  {
   "cell_type": "markdown",
   "metadata": {},
   "source": [
    "We provide a range of time averaging periods - the values are in seconds, so for a 1-minute sustained wind, you would select `60.`"
   ]
  },
  {
   "cell_type": "code",
   "execution_count": 2,
   "metadata": {},
   "outputs": [],
   "source": [
    "tau = np.array([0.1, 0.2, .5, 1., 3., 10., 30., 60., 120., 180., 600., 3600.])"
   ]
  },
  {
   "cell_type": "markdown",
   "metadata": {},
   "source": [
    "The wind speed averaging conversions are sensitive to the surface over which the wind is blowing -- by default, we will assume off-land conditions, but this can be changed. "
   ]
  },
  {
   "cell_type": "code",
   "execution_count": 3,
   "metadata": {},
   "outputs": [],
   "source": [
    "turbulence = OrderedDict([('At-sea', 0.10),\n",
    "                          ('Off-sea', 0.15),\n",
    "                          ('Off-land', 0.20),\n",
    "                          ('Inland', 0.25)])"
   ]
  },
  {
   "cell_type": "markdown",
   "metadata": {},
   "source": [
    "The base classifications are in knots, and we then convert to the chosen units:"
   ]
  },
  {
   "cell_type": "code",
   "execution_count": 4,
   "metadata": {},
   "outputs": [],
   "source": [
    "conversions = {\"km/h\":1.852,\n",
    "               \"mph\":1.15,\n",
    "               \"m/s\":0.5144,\n",
    "               \"kts\":1.0}\n"
   ]
  },
  {
   "cell_type": "markdown",
   "metadata": {},
   "source": [
    "These functions are used to determine the wind speed averaging conversion. "
   ]
  },
  {
   "cell_type": "code",
   "execution_count": 5,
   "metadata": {},
   "outputs": [],
   "source": [
    "def crossingRate(tau, eta=10.):\n",
    "    Tu = 3.13 * np.power(eta, 0.2)\n",
    "    nu = (0.007 + 0.213 * np.power(Tu / tau, 0.654)) / Tu\n",
    "    return nu\n",
    "\n",
    "def gustFactor(tau, turbulence, reftime=3600., elev=10.):\n",
    "    nu = crossingRate(tau, elev)\n",
    "    Tu = 3.13 * np.power(elev, 0.2)\n",
    "    sdratio = 1. - 0.193 * np.power((Tu / tau) + 0.1, -0.68)\n",
    "    v_tau = np.sqrt(2. * np.log(reftime * nu)) + \\\n",
    "        0.577 / np.sqrt(2. * np.log(reftime * nu))\n",
    "    g = v_tau * sdratio\n",
    "    return 1. + g * turbulence\n",
    "\n",
    "def esdu_gto(reftime):\n",
    "    gto = 0.2193 * np.log(np.log10(reftime)) + 0.7242\n",
    "    return gto"
   ]
  },
  {
   "cell_type": "code",
   "execution_count": 6,
   "metadata": {
    "code_folding": []
   },
   "outputs": [],
   "source": [
    "palette = [(0.000, 0.627, 0.235), (0.412, 0.627, 0.235), \n",
    "           (0.663, 0.780, 0.282), (0.957, 0.812, 0.000), \n",
    "           (0.925, 0.643, 0.016), (0.835, 0.314, 0.118),\n",
    "           (0.780, 0.086, 0.118)]"
   ]
  },
  {
   "cell_type": "code",
   "execution_count": 7,
   "metadata": {},
   "outputs": [],
   "source": [
    "categories = {\n",
    "    'Australia and South Pacific':OrderedDict([\n",
    "        ('Tropical low'                      ,{'min':  0., 'max': 33.}),\n",
    "        ('Category 1 tropical cyclone'       ,{'min': 34., 'max': 47.}),\n",
    "        ('Category 2 tropical cyclone'       ,{'min': 48., 'max': 63.}),\n",
    "        ('Category 3 severe tropical cyclone',{'min': 64., 'max': 85.}),\n",
    "        ('Category 4 severe tropical cyclone',{'min': 86., 'max':107.}),\n",
    "        ('Category 5 severe tropical cyclone',{'min':108., 'max':300.})]\n",
    "    ),\n",
    "    'Saffir-Simpson':OrderedDict([\n",
    "        ('Tropical Depression'       ,{'min':  0., 'max': 29.}),\n",
    "        ('Tropical Storm'            ,{'min': 30., 'max': 55.}),\n",
    "        ('Category 1 hurricane'      ,{'min': 56., 'max': 72.}),\n",
    "        ('Category 2 hurricane'      ,{'min': 73., 'max': 83.}),\n",
    "        ('Category 3 major hurricane',{'min': 84., 'max': 98.}),\n",
    "        ('Category 4 major hurricane',{'min': 99., 'max':119.}),\n",
    "        ('Category 5 major hurricane',{'min':120., 'max':300.})]\n",
    "    ),\n",
    "    'JTWC NW Pacific'  :OrderedDict([\n",
    "        ('Tropical Depression',{'min':  0., 'max': 29.}),\n",
    "        ('Tropical Storm'     ,{'min': 30., 'max': 55.}),\n",
    "        ('Typhoon'            ,{'min': 56., 'max':113.}),\n",
    "        ('Super Typhoon'      ,{'min':114., 'max':300.})]\n",
    "    ),\n",
    "    'Japanese Meteorological Agency':OrderedDict([\n",
    "        ('Tropical Depression'  ,{'min':  0., 'max': 33.}),\n",
    "        ('Tropical Storm'       ,{'min': 34., 'max': 47.}),\n",
    "        ('Severe Tropical Storm',{'min': 48., 'max': 63.}),\n",
    "        ('Typhoon'              ,{'min': 64., 'max':300.})]\n",
    "    ),\n",
    "    'Meteo France':OrderedDict([\n",
    "        ('Tropical Disturbance'         ,{'min':  0., 'max': 29.}),\n",
    "        ('Tropical Depression'          ,{'min': 30., 'max': 33.}),\n",
    "        ('Moderate Tropical Storm'      ,{'min': 34., 'max': 47.}),\n",
    "        ('Severe Tropical Storm'        ,{'min': 48., 'max': 63.}),\n",
    "        ('Tropical Cyclone'             ,{'min': 64., 'max': 85.}),\n",
    "        ('Intense Tropical Cyclone'     ,{'min': 86., 'max':113.}),\n",
    "        ('Very Intense Tropical Cyclone',{'min':114., 'max':300.})]\n",
    "    )\n",
    "    \n",
    "}"
   ]
  },
  {
   "cell_type": "code",
   "execution_count": 25,
   "metadata": {},
   "outputs": [],
   "source": [
    "def plot_classification(classification, avgper, sfccond, units):\n",
    "    cat = categories[classification]\n",
    "    cf = conversions[units]\n",
    "    eta = 10.\n",
    "    gto = esdu_gto(600.)\n",
    "    \n",
    "    gf = gustFactor(avgper, turbulence[sfccond], 600.) * gto\n",
    "    columns = ['Category', 'Minimum', 'Maximum']\n",
    "    nrows = len(cat.keys())\n",
    "    ncols = len(columns)\n",
    "    hcell, wcell = 1., 1.\n",
    "    hpad, wpad = .2, 0.5\n",
    "    cmap = sns.blend_palette(palette,nrows+1)\n",
    "\n",
    "    fig, ax = plt.subplots(figsize=(3*(ncols*wcell+wpad), (nrows*hcell+hpad)))\n",
    "    ax.axis('off')\n",
    "    ax.xaxis.set_visible(False)\n",
    "    ax.yaxis.set_visible(False)\n",
    "    for k, sp in ax.spines.items():\n",
    "        sp.set_color('w')\n",
    "        sp.set_zorder(0)\n",
    "    \n",
    "    cell_text = [columns]\n",
    "    cell_colors = [['w', 'w', 'w']]\n",
    "    n = 1\n",
    "    for label, val in cat.items():\n",
    "        minval = val['min'] * gf * cf\n",
    "        maxval = val['max'] * gf * cf\n",
    "        if val['min'] == 0.0:\n",
    "            cell_text.append([label, 0, np.round(maxval)])\n",
    "        elif val['max'] == 300.:\n",
    "            cell_text.append([label, np.round(minval), ''])\n",
    "        else:\n",
    "            cell_text.append([label, np.round(minval), np.round(maxval)])\n",
    "        cell_colors.append([cmap[n], cmap[n], cmap[n]])\n",
    "        n+=1\n",
    "        \n",
    "    the_table = plt.table(cellText=cell_text, loc='center', fontsize=24, cellColours=cell_colors)\n",
    "    the_table.set_zorder(10)\n",
    "    the_table.auto_set_font_size(False)\n",
    "    the_table.set_fontsize(24)\n",
    "    the_table.scale(2, 4)\n",
    "    ax.set_title(\"{0} tropical cyclone classification ({1})\\n {2} conditions -- {3} s averaging period\".format(classification, units, sfccond, avgper), fontsize=24)\n",
    "    plt.show()\n",
    "    "
   ]
  },
  {
   "cell_type": "code",
   "execution_count": 26,
   "metadata": {},
   "outputs": [],
   "source": [
    "catDropDown = Dropdown(options=categories.keys(), value=list(categories.keys())[0], description='Classification')\n",
    "tauDropDown = Dropdown(options=list(tau), value=tau[10], description='Averaging period (s)')\n",
    "turDropDown = Dropdown(options=turbulence.keys(), value=list(turbulence.keys())[2], description='Surface conditions')\n",
    "unitDropDown = Dropdown(options=conversions.keys(), value=list(conversions.keys())[-1], description='Units')"
   ]
  },
  {
   "cell_type": "code",
   "execution_count": 27,
   "metadata": {},
   "outputs": [
    {
     "data": {
      "application/vnd.jupyter.widget-view+json": {
       "model_id": "6a227531088d4162b7bed9042f2238ef",
       "version_major": 2,
       "version_minor": 0
      },
      "text/plain": [
       "interactive(children=(Dropdown(description='Classification', options=('Australia and South Pacific', 'Saffir-S…"
      ]
     },
     "metadata": {},
     "output_type": "display_data"
    },
    {
     "data": {
      "text/plain": [
       "<function __main__.plot_classification(classification, avgper, sfccond, units)>"
      ]
     },
     "execution_count": 27,
     "metadata": {},
     "output_type": "execute_result"
    }
   ],
   "source": [
    "interact(plot_classification,\n",
    "                classification=catDropDown,\n",
    "                avgper = tauDropDown,\n",
    "                sfccond = turDropDown,\n",
    "                units = unitDropDown)\n"
   ]
  },
  {
   "cell_type": "code",
   "execution_count": null,
   "metadata": {},
   "outputs": [],
   "source": []
  }
 ],
 "metadata": {
  "kernelspec": {
   "display_name": "Python 3",
   "language": "python",
   "name": "python3"
  },
  "language_info": {
   "codemirror_mode": {
    "name": "ipython",
    "version": 3
   },
   "file_extension": ".py",
   "mimetype": "text/x-python",
   "name": "python",
   "nbconvert_exporter": "python",
   "pygments_lexer": "ipython3",
   "version": "3.7.3"
  }
 },
 "nbformat": 4,
 "nbformat_minor": 2
}
