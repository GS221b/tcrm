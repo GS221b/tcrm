{
 "cells": [
  {
   "cell_type": "code",
   "execution_count": null,
   "metadata": {},
   "outputs": [],
   "source": [
    "%matplotlib inline\n",
    "\n",
    "import os\n",
    "from os.path import join as pjoin\n",
    "import numpy as np\n",
    "import pandas as pd\n",
    "import geopandas as gpd\n",
    "import matplotlib.pyplot as plt\n",
    "import seaborn as sns"
   ]
  },
  {
   "cell_type": "code",
   "execution_count": null,
   "metadata": {},
   "outputs": [],
   "source": [
    "gateFile = \"C:/WorkSpace/data/tcha/gates.shp\"\n",
    "trackFile = \"C:/WorkSpace/data/tcha/tracks/tracks.00003_line.shp\""
   ]
  },
  {
   "cell_type": "code",
   "execution_count": null,
   "metadata": {},
   "outputs": [],
   "source": [
    "gates = gpd.read_file(gateFile)\n",
    "gates['count'] = 0\n",
    "gates['meanlfintensity'] = np.nan\n",
    "gates['minlfintensity'] = np.nan\n",
    "gates['cat1'] = 0\n",
    "gates['cat2'] = 0\n",
    "gates['cat3'] = 0\n",
    "gates['cat4'] = 0\n",
    "gates['cat5'] = 0\n",
    "trackDF = gpd.read_file(trackFile)\n",
    "# Category is based on central pressure. This equally could be maximum wind speed\n",
    "trackDF['category'] = pd.cut(trackDF['pCentre'], \n",
    "                             bins=[0, 930, 955, 970, 985, 990, 1020], \n",
    "                             labels=[5,4,3,2,1,0])"
   ]
  },
  {
   "cell_type": "code",
   "execution_count": null,
   "metadata": {},
   "outputs": [],
   "source": [
    "for i, gate in enumerate(gates.itertuples(index=False)):\n",
    "    ncrossings = 0\n",
    "    crossings = trackDF.crosses(gate.geometry)\n",
    "    ncrossings = np.sum(trackDF.crosses(gate.geometry))\n",
    "    if ncrossings > 0:\n",
    "        gates['count'].iloc[i] = ncrossings\n",
    "        gates['meanlfintensity'].iloc[i] = trackDF['pCentre'][crossings].mean()\n",
    "        gates['minlfintensity'].iloc[i] = trackDF['pCentre'][crossings].min()\n",
    "        cathist, bins = np.histogram(trackDF['category'][crossings], bins=[0,1,2,3,4,5, 6])\n",
    "        gates['cat1'].iloc[i] = cathist[1]\n",
    "        gates['cat2'].iloc[i] = cathist[2]\n",
    "        gates['cat3'].iloc[i] = cathist[3]\n",
    "        gates['cat4'].iloc[i] = cathist[4]\n",
    "        gates['cat5'].iloc[i] = cathist[5]\n",
    "    else:\n",
    "        gates['meanlfintensity'].iloc[i] = np.nan\n",
    "        gates['minlfintensity'].iloc[i] = np.nan\n",
    "        gates['cat1'].iloc[i] = 0\n",
    "        gates['cat2'].iloc[i] = 0\n",
    "        gates['cat3'].iloc[i] = 0\n",
    "        gates['cat4'].iloc[i] = 0\n",
    "        gates['cat5'].iloc[i] = 0\n",
    "        \n",
    "        "
   ]
  },
  {
   "cell_type": "code",
   "execution_count": null,
   "metadata": {},
   "outputs": [],
   "source": [
    "gates"
   ]
  },
  {
   "cell_type": "code",
   "execution_count": null,
   "metadata": {},
   "outputs": [],
   "source": [
    "width=0.4\n",
    "fig, ax = plt.subplots(3,1,figsize=(12,16),sharex=True)\n",
    "ax[0].bar(gates['gate']-0.5*width, gates['cat5']+gates['cat4']+gates['cat3'],width=width, color='r', label='Severe TCs')\n",
    "ax[0].bar(gates['gate']+0.5*width, gates['count'],width=width, color='b', label='TCs')\n",
    "ax[0].legend()\n",
    "ax[1].plot(gates['gate'], gates['minlfintensity'], label='Minimum landfall intensity')\n",
    "ax[1].plot(gates['gate'], gates['meanlfintensity'], color='r', label='Mean landfall intensity')\n",
    "ax[1].legend(loc=2)\n",
    "ax[1].set_ylim((850, 1020))\n",
    "ax[2].bar(gates['gate'], gates['count'])\n",
    "ax[2].set_xlim((0,48))\n",
    "ax[2].set_xticks(np.arange(0,48,2))\n",
    "ax[2].set_yticks(np.arange(0,24,2))\n",
    "ax[2].set_xticklabels(gates['label'][::2], rotation='vertical')"
   ]
  },
  {
   "cell_type": "code",
   "execution_count": null,
   "metadata": {},
   "outputs": [],
   "source": [
    "print(\"Number of events:\", pd.unique(trackDF['CycloneNumb']).size)\n",
    "print(\"Number of landfalls:\", gates['count'].sum())"
   ]
  }
 ],
 "metadata": {
  "kernelspec": {
   "display_name": "Python 3",
   "language": "python",
   "name": "python3"
  },
  "language_info": {
   "codemirror_mode": {
    "name": "ipython",
    "version": 3
   },
   "file_extension": ".py",
   "mimetype": "text/x-python",
   "name": "python",
   "nbconvert_exporter": "python",
   "pygments_lexer": "ipython3",
   "version": "3.7.4"
  },
  "notify_time": "30"
 },
 "nbformat": 4,
 "nbformat_minor": 2
}
