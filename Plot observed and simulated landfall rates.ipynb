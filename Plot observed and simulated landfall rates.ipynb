{
 "cells": [
  {
   "cell_type": "markdown",
   "metadata": {},
   "source": [
    "# Plot observed and simulated landfall rates\n",
    "\n",
    "This notebook plots up the landfall rates for observed and simulated TC events, which are determined in separate scripts/notebooks."
   ]
  },
  {
   "cell_type": "code",
   "execution_count": null,
   "metadata": {},
   "outputs": [],
   "source": [
    "%matplotlib inline\n",
    "\n",
    "import os\n",
    "from os.path import join as pjoin\n",
    "import numpy as np\n",
    "import geopandas as gpd\n",
    "import pandas as pd\n",
    "import matplotlib.pyplot as plt\n",
    "import seaborn as sns"
   ]
  },
  {
   "cell_type": "code",
   "execution_count": null,
   "metadata": {},
   "outputs": [],
   "source": [
    "simdata = pd.read_csv(\"C:/WorkSpace/data/tcha/sim_landfall.csv\")\n",
    "obsdata = pd.read_csv(\"C:/WorkSpace/data/tcha/obs_landfall.csv\")"
   ]
  },
  {
   "cell_type": "code",
   "execution_count": null,
   "metadata": {},
   "outputs": [],
   "source": [
    "width=0.4\n",
    "fig, ax = plt.subplots(1,1,figsize=(12,5),sharex=True)\n",
    "ax.plot(obsdata['gate'], obsdata['minlfintensity'], color='k', label='Minimum observed landfall intensity')\n",
    "ax.plot(obsdata['gate'], obsdata['meanlfintensity'], color='r', label='Mean observed landfall intensity')\n",
    "ax.plot(simdata['gate'], simdata['minlfintensity_min'], color='0.5', label='Minimum simulated landfall intensity')\n",
    "ax.plot(simdata['gate'], simdata['meanlfintensity_mean'], color='b', label='Mean simulated landfall intensity')\n",
    "ax.fill_between(simdata['gate'], simdata['meanlfintensity_q10'],\n",
    "                   simdata['meanlfintensity_q90'],color='b', alpha=0.25)\n",
    "ax.legend(loc='center left', bbox_to_anchor=(1, 0.5))\n",
    "ax.set_ylabel(\"Pressure (hPa)\")\n",
    "ax.set_xlim((0,47))\n",
    "ax.set_xticks(np.arange(0,47,2))\n",
    "ax.set_ylim((825, 1020))\n",
    "ax.set_ylabel(\"Pressure (hPa)\")\n",
    "ax.set_xticklabels(obsdata['label'][::2], rotation='vertical')\n",
    "ax.grid()\n",
    "None"
   ]
  },
  {
   "cell_type": "code",
   "execution_count": null,
   "metadata": {},
   "outputs": [],
   "source": [
    "width=0.25\n",
    "fig, ax = plt.subplots(1,1,figsize=(12,5),sharex=True)\n",
    "ax.plot(obsdata['gate'], obsdata['count']/obsdata['count'].sum(), color='r', label=\"Observed\")\n",
    "ax.plot(simdata['gate'], simdata['count_sum']/simdata['count_sum'].sum(), color='k', label=\"Simulated\")\n",
    "#upper = (simdata['count_mean']+simdata['count_std'])/(simdata['count_mean']).sum()\n",
    "#lower = (simdata['count_mean']-simdata['count_std'])/(simdata['count_mean']).sum()\n",
    "#ax.fill_between(simdata['gate'], lower, upper, color='0.5')\n",
    "ax.legend()\n",
    "ax.set_ylabel(\"Landfall probability\")\n",
    "ax.set_xlim((0,47))\n",
    "ax.set_xticks(np.arange(0,47,2))\n",
    "#ax.set_ylim((825, 1020))\n",
    "#ax.set_ylabel(\"Pressure (hPa)\")\n",
    "ax.set_xticklabels(obsdata['label'][::2], rotation='vertical')\n",
    "ax.grid()\n",
    "None"
   ]
  },
  {
   "cell_type": "code",
   "execution_count": null,
   "metadata": {},
   "outputs": [],
   "source": [
    "simdata.columns"
   ]
  },
  {
   "cell_type": "code",
   "execution_count": null,
   "metadata": {},
   "outputs": [],
   "source": []
  }
 ],
 "metadata": {
  "kernelspec": {
   "display_name": "Python 3",
   "language": "python",
   "name": "python3"
  },
  "language_info": {
   "codemirror_mode": {
    "name": "ipython",
    "version": 3
   },
   "file_extension": ".py",
   "mimetype": "text/x-python",
   "name": "python",
   "nbconvert_exporter": "python",
   "pygments_lexer": "ipython3",
   "version": "3.7.4"
  }
 },
 "nbformat": 4,
 "nbformat_minor": 4
}
