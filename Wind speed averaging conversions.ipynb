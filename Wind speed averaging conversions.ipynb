{
 "cells": [
  {
   "cell_type": "markdown",
   "metadata": {},
   "source": [
    "# Converting between wind speed averaging periods\n",
    "\n",
    "This notebook demonstrates the derivation of the wind speed conversion factors published in the World Meteorological Organisation's *Guidelines for Converting Between Various Wind Averaging Periods in Tropical Cyclone Conditions* ([WMO TD1555, 2010](http://www.wmo.int/pages/prog/www/tcp/documents/WMO_TD_1555_en.pdf)). \n",
    "\n",
    "We follow the methods outlined in Appendix D *The Modified ESDU Gust Factor Method*, which establishes a procedure for estimating the peak factor $g$, in combination with an *a priori* estimate of the turbulence intensity $I_u$ to estimate the appropriate gust factor $G$ for TC conditions.\n",
    "\n",
    "This extends the wind speed averaging times to 0.2 seconds, following the recommendations of Holmes and Ginger (2012), where the previously defined '3-second' gust (average wind over 3 seconds) measured by Dines anemometers is in fact considered representative of a 0.2-second gust, due to the response characteristics of the instrument. \n",
    "\n",
    "#### Definition of the gust factor\n",
    "\n",
    "The gust factor to be defined is given by Eq. 14 in TD 1555:\n",
    "\n",
    "$G_{\\tau, T_o} = \\dfrac{V_{\\tau}}{V_{T_o}} = 1 + g_{\\tau, T_o} I_u$\n",
    "\n",
    "where:\n",
    "\n",
    "* $\\tau$ is the averaging period of the gust wind;\n",
    "* $T_o$ is the reference period of the wind;\n",
    "* $V_{\\tau}$ is the gust wind speed;\n",
    "* $V_{T_o}$ is the mean wind speed estimate;\n",
    "* $g_{\\tau, T_o}$ is the peak factor;\n",
    "* $G_{\\tau, T_o}$ is the gust factor; and\n",
    "* $I_u$ is the turbulence intensity\n",
    "    \n",
    "First start with importing the required Python modules."
   ]
  },
  {
   "cell_type": "code",
   "execution_count": null,
   "metadata": {},
   "outputs": [],
   "source": [
    "%matplotlib inline\n",
    "\n",
    "import numpy as np\n",
    "import matplotlib.pyplot as plt\n",
    "import seaborn as sns\n",
    "sns.set_style('ticks')\n",
    "sns.set_context(\"paper\")"
   ]
  },
  {
   "cell_type": "markdown",
   "metadata": {},
   "source": [
    "The approach starts with estimating the spectrally-based zero-crossing rate $\\nu$, relative to an *hourly* reference period $T'_o$:\n",
    "\n",
    "$\\nu(\\tau, T'_o) = \\dfrac{[0.007 + 0.213(T_u/\\tau)^{0.654}]}{T_u}$\n",
    "\n",
    "The integral time scale of the longitudinal turbulence $T_u$ is approximated empirically as a function of the elevation $z$:\n",
    "\n",
    "$T_u = 3.13z^{0.2}$"
   ]
  },
  {
   "cell_type": "code",
   "execution_count": null,
   "metadata": {},
   "outputs": [],
   "source": [
    "def crossingRate(tau, eta=10.):\n",
    "    Tu = 3.13 * np.power(eta, 0.2)\n",
    "    nu = (0.007 + 0.213 * np.power(Tu / tau, 0.654)) / Tu\n",
    "    return nu"
   ]
  },
  {
   "cell_type": "markdown",
   "metadata": {},
   "source": [
    "We assume $z=10$ metres throughout, and the ratio of the standard deviations of the gust and instantaneous winds can be defined as:\n",
    "\n",
    "$\\dfrac{\\sigma_u (\\tau, T'_o)}{\\sigma_u} = 1 - 0.193[\\dfrac{T_u}{\\tau} + 0.1]^{-0.68}$. \n",
    "\n",
    "The mean of the maximum values of the gust within an hourly reference period $V_{\\tau, T'_o}$ is obtained from:\n",
    "\n",
    "$\\dfrac{V_{\\tau, T'_o}}{\\sigma_u (\\tau, T'_o)} = \n",
    "    \\sqrt{2 \\ln[T'_o \\nu(\\tau, T'_o)]} + \\dfrac{0.577}{\\sqrt{2 \\ln[T'_o \\nu(\\tau, T'_o)]}}$\n",
    "\n",
    "These are then combined to give the peak factor $g$:\n",
    "\n",
    "$g_{\\tau, T'_o} = \\dfrac{V_{\\tau, T'_o}}{\\sigma_u (\\tau, T'_o)} \\dfrac{\\sigma_u (\\tau, T'_o)}{\\sigma_u}$\n",
    "\n",
    "and then:\n",
    "\n",
    "$G_{\\tau, T'_o} = 1 + g_{\\tau, T'_o} I_u$ \n"
   ]
  },
  {
   "cell_type": "code",
   "execution_count": null,
   "metadata": {},
   "outputs": [],
   "source": [
    "def gustFactor(tau, turbulence, reftime=3600., elev=10.):\n",
    "    nu = crossingRate(tau, elev)\n",
    "    Tu = 3.13 * np.power(elev, 0.2)\n",
    "    sdratio = 1. - 0.193 * np.power((Tu / tau) + 0.1, -0.68)\n",
    "    v_tau = np.sqrt(2. * np.log(reftime * nu)) + \\\n",
    "        0.577 / np.sqrt(2. * np.log(reftime * nu))\n",
    "    g = v_tau * sdratio\n",
    "    return 1. + g * turbulence"
   ]
  },
  {
   "cell_type": "markdown",
   "metadata": {},
   "source": [
    "The ESDU $G_{T_o}$ function, taken from Figure 2b ([ESDU, 2002][ESDU2002]), allows for $G_{\\tau, T'_o}$ to be modified to permit a reference period $T_o$ that is other than the hourly $T'_o$:\n",
    "\n",
    "$G_{T_o} = \\dfrac{G_{\\tau, T_o}}{G_{\\tau, T'_o}}$\n",
    "\n",
    "The $G_{T_o}$ function is approximated by this relationship:\n",
    "\n",
    "[ESDU2002]: https://www.esdu.com/cgi-bin/ps.pl?sess=unlicensed_1150818225520wyk&t=doc&p=esdu_83045c-r1"
   ]
  },
  {
   "cell_type": "code",
   "execution_count": null,
   "metadata": {},
   "outputs": [],
   "source": [
    "def esdu_gto(reftime):\n",
    "    gto = 0.2193 * np.log(np.log10(reftime)) + 0.7242\n",
    "    return gto"
   ]
  },
  {
   "cell_type": "markdown",
   "metadata": {},
   "source": [
    "The final step is then to define the gust factor for a selected reference period $T_o$ and gust averaging period $\\tau$:\n",
    "\n",
    "$G_{\\tau, T_o} = G_{T_o} G_{\\tau, T'_o}$\n",
    "\n",
    "\n",
    "Here we calculate the wind speed conversion factors for a range of time periods. The base reference time is 600 seconds (10 minutes), but can be modified to suit the application. This step also applies the ESDU function $G_{T_o}$, and sets all values less than 1.0 equal to 1.0. We demonstrate wind speed conversion factors for a range of turbulence intensities, approximating the conditions described in Table 1.1 in TD1555."
   ]
  },
  {
   "cell_type": "code",
   "execution_count": null,
   "metadata": {},
   "outputs": [],
   "source": [
    "reftime = 600.\n",
    "tau = np.array([0.1, 0.2, .5, 1., 3., 10., 30., 60., 120., 180., 600., 3600.])\n",
    "eta = 10.\n",
    "\n",
    "gto = esdu_gto(reftime)\n",
    "\n",
    "gf_inland = gustFactor(tau, 0.25, reftime, eta) * gto\n",
    "gf_offland = gustFactor(tau, 0.2, reftime, eta) * gto\n",
    "gf_offsea = gustFactor(tau, 0.15, reftime, eta) * gto\n",
    "gf_atsea = gustFactor(tau, 0.1, reftime, eta) * gto\n",
    "\n",
    "gf_inland = np.where(gf_inland < 1., 1., gf_inland)\n",
    "gf_offland = np.where(gf_offland < 1., 1., gf_offland)\n",
    "gf_offsea = np.where(gf_offsea < 1., 1., gf_offsea)\n",
    "gf_atsea = np.where(gf_atsea < 1., 1., gf_atsea)"
   ]
  },
  {
   "cell_type": "markdown",
   "metadata": {},
   "source": [
    "Plot the results:"
   ]
  },
  {
   "cell_type": "code",
   "execution_count": null,
   "metadata": {},
   "outputs": [],
   "source": [
    "plt.semilogx(tau, gf_inland, label=r\"In-land ($I_u=0.250$)\")\n",
    "plt.semilogx(tau, gf_offland, label=r\"Off-land ($I_u=0.200$)\")\n",
    "plt.semilogx(tau, gf_offsea, label=r\"Off-sea ($I_u=0.150$)\")\n",
    "plt.semilogx(tau, gf_atsea, label=r\"At-sea ($I_u=0.100$)\")\n",
    "plt.title(\"Gust factors ($T_o = {:.0f}$ seconds)\".format(reftime))\n",
    "plt.legend(frameon=True)\n",
    "plt.ylim((1.0, 2.0))\n",
    "plt.xlim((0.1, 1000))\n",
    "plt.ylabel(r'Gust factor $G_{\\tau, T_o}$')\n",
    "plt.xlabel(r'Gust duration $\\tau$ (s)')\n",
    "plt.grid(which='major')\n",
    "plt.grid(which='minor', linestyle='--', linewidth=1)\n",
    "plt.legend()\n",
    "sns.despine()"
   ]
  },
  {
   "cell_type": "markdown",
   "metadata": {},
   "source": [
    "Print a formatted table of the conversion factors"
   ]
  },
  {
   "cell_type": "code",
   "execution_count": null,
   "metadata": {},
   "outputs": [],
   "source": [
    "titlestr = \"Duration| \" + \"| \".join(['{:6.1f}']*len(tau)).format(*tau)\n",
    "print(titlestr)\n",
    "\n",
    "rowfmt = \"{:s}| \" + \"| \".join(['{:6.3f}']*len(tau))\n",
    "print(rowfmt.format(\"In-land \", *gf_inland))\n",
    "print(rowfmt.format(\"Off-land\", *gf_offland))\n",
    "print(rowfmt.format(\"Off-sea \", *gf_offsea))\n",
    "print(rowfmt.format(\"At-sea  \", *gf_atsea))"
   ]
  },
  {
   "cell_type": "code",
   "execution_count": null,
   "metadata": {},
   "outputs": [],
   "source": [
    "nrows = 5\n",
    "ncols = len(tau) + 1\n",
    "hcell, wcell = 1., 1.\n",
    "hpad, wpad = .2, 0.5\n",
    "fig, ax = plt.subplots(figsize=((ncols*wcell+wpad), (nrows*hcell+hpad)))\n",
    "ax.axis('off')\n",
    "ax.xaxis.set_visible(False)\n",
    "ax.yaxis.set_visible(False)\n",
    "for sp in ax.spines.items():\n",
    "    sp[1].set_color('w')\n",
    "    sp[1].set_zorder(0)\n",
    "\n",
    "titlestr = \"Duration| \" + \"| \".join(['{:6.1f}'] * len(tau)).format(*tau)\n",
    "columns = titlestr.split('|')\n",
    "cell_text = [columns]\n",
    "cell_colors = [['0.75']*len(columns)]\n",
    "cell_text.append([\"In-land\"] + list(gf_inland.round(4)))\n",
    "cell_text.append([\"Off-land\"] + list(gf_offland.round(4)))\n",
    "cell_text.append([\"Off-sea\"] + list(gf_offsea.round(4)))\n",
    "cell_text.append([\"At-sea\"] + list(gf_atsea.round(4)))\n",
    "cell_colors.append(['w']*len(columns))\n",
    "cell_colors.append(['w']*len(columns))\n",
    "cell_colors.append(['w']*len(columns))\n",
    "cell_colors.append(['w']*len(columns))\n",
    "the_table = plt.table(cellText=cell_text, loc='center',\n",
    "                      fontsize=24, cellColours=cell_colors)\n",
    "the_table.set_zorder(10)\n",
    "the_table.auto_set_font_size(False)\n",
    "the_table.set_fontsize(24)\n",
    "the_table.scale(2, 4)\n",
    "ax.set_title(\"Wind speed averaging conversions (WMO TD1555)\", fontsize=24)\n",
    "plt.show()"
   ]
  },
  {
   "cell_type": "markdown",
   "metadata": {},
   "source": [
    "*With thanks to Bruce Harper, Systems Engineering Australia.*"
   ]
  },
  {
   "cell_type": "code",
   "execution_count": null,
   "metadata": {},
   "outputs": [],
   "source": [
    "def print_conversions(avgper):\n",
    "    tauidx = np.where(tau==avgper)[0]\n",
    "    titlestr = \"Duration| \" + \"| \".join(['{:6.1f}']*len(tau)).format(*tau)\n",
    "    print(titlestr)\n",
    "    print(\"-\"*len(titlestr))\n",
    "    rowfmt = \"{:s}| \" + \"| \".join(['{:6.3f}']*len(tau))\n",
    "    print(rowfmt.format(\"In-land \", *gf_inland/gf_inland[tauidx]))\n",
    "    print(rowfmt.format(\"Off-land\", *gf_offland/gf_offland[tauidx]))\n",
    "    print(rowfmt.format(\"Off-sea \", *gf_offsea/gf_offsea[tauidx]))\n",
    "    print(rowfmt.format(\"At-sea  \", *gf_atsea/gf_atsea[tauidx]))\n",
    "    "
   ]
  },
  {
   "cell_type": "code",
   "execution_count": null,
   "metadata": {},
   "outputs": [],
   "source": [
    "from ipywidgets import interactive\n",
    "import ipywidgets as widgets\n",
    "tau_select = widgets.Dropdown(options=list(tau), value=tau[4], \n",
    "                              description=\"Averaging period (s)\")\n",
    "w = interactive(print_conversions, avgper=tau_select)\n",
    "w"
   ]
  }
 ],
 "metadata": {
  "kernelspec": {
   "display_name": "Python 3",
   "language": "python",
   "name": "python3"
  },
  "language_info": {
   "codemirror_mode": {
    "name": "ipython",
    "version": 3
   },
   "file_extension": ".py",
   "mimetype": "text/x-python",
   "name": "python",
   "nbconvert_exporter": "python",
   "pygments_lexer": "ipython3",
   "version": "3.7.6"
  }
 },
 "nbformat": 4,
 "nbformat_minor": 1
}
