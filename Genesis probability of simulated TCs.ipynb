{
 "cells": [
  {
   "cell_type": "markdown",
   "metadata": {},
   "source": [
    "# Genesis probability of simulated tropical cyclones\n",
    "\n"
   ]
  },
  {
   "cell_type": "code",
   "execution_count": null,
   "metadata": {},
   "outputs": [],
   "source": [
    "%matplotlib inline\n",
    "\n",
    "import os\n",
    "from os import walk\n",
    "from os.path import join as pjoin\n",
    "import matplotlib.pyplot as plt\n",
    "\n",
    "import cartopy.crs as ccrs\n",
    "import cartopy.feature as feature\n",
    "import shapely.geometry as sg\n",
    "\n",
    "from statsmodels.nonparametric.kernel_density import KDEMultivariate\n",
    "\n",
    "from Utilities import track\n",
    "import numpy as np\n",
    "import pandas as pd\n",
    "import seaborn as sns\n",
    "sns.set_context(\"poster\")\n",
    "sns.set_style(\"whitegrid\")"
   ]
  },
  {
   "cell_type": "code",
   "execution_count": null,
   "metadata": {},
   "outputs": [],
   "source": [
    "def readTracks(trackFile):\n",
    "    \"\"\"\n",
    "    Read a track file and create a `GeoPandas.GeoDataFrame` from the data, with\n",
    "    separate polyline features for each unique track in the file. Also adds a\n",
    "    nominal intensity category based on the central pressure value.\n",
    "    \n",
    "    :param str trackFile: Path to a TCRM-format track file\n",
    "    \n",
    "    :returns: `GeoPandas.GeoDataFrame` of tracks\n",
    "    \"\"\"\n",
    "    tracks = track.ncReadTrackData(trackFile)\n",
    "    trackgdf = []\n",
    "    for t in tracks:\n",
    "        gdf = pd.DataFrame.from_records(t.data)\n",
    "        gdf['TrackId'] = \"{0:03d}-{1:05d}\".format(*t.trackId)\n",
    "        trackgdf.append(gdf)\n",
    "    trackgdf = pd.concat(trackgdf)\n",
    "    return trackgdf.groupby('TrackId').first()"
   ]
  },
  {
   "cell_type": "code",
   "execution_count": null,
   "metadata": {},
   "outputs": [],
   "source": [
    "filelist = []\n",
    "datapath = \"C:/WorkSpace/data/tcha/tracks\"\n",
    "for (dirpath, dirnames, filenames) in walk(datapath):\n",
    "    filelist.extend([fn for fn in filenames if fn.endswith('nc')])\n",
    "    break\n",
    "nfiles = len(filelist)\n",
    "print(f\"There are {nfiles} track files\")"
   ]
  },
  {
   "cell_type": "code",
   "execution_count": null,
   "metadata": {},
   "outputs": [],
   "source": [
    "genesislist = []\n",
    "for sim, f in enumerate(filelist):\n",
    "    tracks = readTracks(pjoin(datapath,f))\n",
    "\n",
    "    genesislist.append(tracks)\n",
    "    if sim > 100: break\n",
    "genesisdf = pd.concat(genesislist)"
   ]
  },
  {
   "cell_type": "code",
   "execution_count": null,
   "metadata": {},
   "outputs": [],
   "source": [
    "genesisdf[['Longitude', 'Latitude']].values"
   ]
  },
  {
   "cell_type": "code",
   "execution_count": null,
   "metadata": {},
   "outputs": [],
   "source": [
    "dens = KDEMultivariate(data=genesisdf[['Longitude', 'Latitude']].values, var_type='cc', bw='cv_ml')\n",
    "x = np.arange(90,180, 0.1)\n",
    "y = np.arange(-35, -5, 0.1)\n",
    "xx, yy = np.meshgrid(x, y)\n",
    "xy = np.vstack([xx.ravel(), yy.ravel()])\n",
    "pdf = dens.pdf(data_predict=xy)\n",
    "pdf = pdf.reshape(xx.shape)\n"
   ]
  },
  {
   "cell_type": "code",
   "execution_count": null,
   "metadata": {},
   "outputs": [],
   "source": [
    "fig = plt.figure(figsize=(12,5))\n",
    "ax = plt.axes(projection=ccrs.PlateCarree(central_longitude=0))\n",
    "ax.coastlines(resolution='10m', color='black', linewidth=1)\n",
    "ax.add_feature(feature.BORDERS)\n",
    "cf = ax.contourf(xx, yy, pdf, cmap='magma_r')\n",
    "cs = ax.contour(xx, yy, pdf, cmap='magma_r')\n",
    "plt.colorbar(cf, format='%.1e')"
   ]
  },
  {
   "cell_type": "code",
   "execution_count": null,
   "metadata": {},
   "outputs": [],
   "source": []
  }
 ],
 "metadata": {
  "kernelspec": {
   "display_name": "Python 3",
   "language": "python",
   "name": "python3"
  },
  "language_info": {
   "codemirror_mode": {
    "name": "ipython",
    "version": 3
   },
   "file_extension": ".py",
   "mimetype": "text/x-python",
   "name": "python",
   "nbconvert_exporter": "python",
   "pygments_lexer": "ipython3",
   "version": "3.7.4"
  }
 },
 "nbformat": 4,
 "nbformat_minor": 4
}
